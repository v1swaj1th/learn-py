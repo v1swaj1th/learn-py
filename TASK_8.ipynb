{
  "nbformat": 4,
  "nbformat_minor": 0,
  "metadata": {
    "colab": {
      "name": "TASK_8.ipynb",
      "provenance": []
    },
    "kernelspec": {
      "name": "python3",
      "display_name": "Python 3"
    },
    "language_info": {
      "name": "python"
    }
  },
  "cells": [
    {
      "cell_type": "markdown",
      "metadata": {
        "id": "slsGswYbJSo7"
      },
      "source": [
        "1. Generate a 3 x 3 matrix using random module."
      ]
    },
    {
      "cell_type": "code",
      "metadata": {
        "id": "GGRQSYyNJW9t",
        "colab": {
          "base_uri": "https://localhost:8080/"
        },
        "outputId": "c6b787ee-2b36-4974-e40e-d2aaee3a2fea"
      },
      "source": [
        "import numpy as np\n",
        "  \n",
        "matrix = np.random.randint(10, size=(3, 3))\n",
        "print(matrix)\n"
      ],
      "execution_count": null,
      "outputs": [
        {
          "output_type": "stream",
          "text": [
            "[[3 8 8]\n",
            " [3 7 3]\n",
            " [1 5 3]]\n"
          ],
          "name": "stdout"
        }
      ]
    },
    {
      "cell_type": "markdown",
      "metadata": {
        "id": "4OB9KFX6JfYA"
      },
      "source": [
        "2. Generate two 4 x 4 matrix using numpy and \n",
        "\n",
        " a) Reshape it to 2 x 8matrix and vertically stack it.\n",
        "\n",
        " b) Reshape it to 2 x 8 matrix and horizontally stack it."
      ]
    },
    {
      "cell_type": "code",
      "metadata": {
        "id": "VoIqYeNWJ4H_",
        "colab": {
          "base_uri": "https://localhost:8080/"
        },
        "outputId": "2da82a46-52fb-4917-89c3-3b3b6f45cf47"
      },
      "source": [
        "import numpy as np\n",
        "\n",
        "matrix = np.random.randint(10,size=(4,4))\n",
        "print(matrix)\n",
        "\n",
        "newm = matrix.reshape(2,8)\n",
        "print(\"The Reshaped Matrix is \\n\",newm)\n",
        "vstack = np.vstack(newm,)\n",
        "print(\"Vertically Stacked Matrix is \\n\",vstack)\n",
        "hstack = np.hstack(newm)\n",
        "print(\"Horizontally Stacked Matrix is \\n\",hstack)"
      ],
      "execution_count": null,
      "outputs": [
        {
          "output_type": "stream",
          "text": [
            "[[2 2 2 2]\n",
            " [0 9 9 0]\n",
            " [4 5 5 3]\n",
            " [0 2 1 5]]\n",
            "The Reshaped Matrix is \n",
            " [[2 2 2 2 0 9 9 0]\n",
            " [4 5 5 3 0 2 1 5]]\n",
            "Vertically Stacked Matrix is \n",
            " [[2 2 2 2 0 9 9 0]\n",
            " [4 5 5 3 0 2 1 5]]\n",
            "Horizontally Stacked Matrix is \n",
            " [2 2 2 2 0 9 9 0 4 5 5 3 0 2 1 5]\n"
          ],
          "name": "stdout"
        }
      ]
    }
  ]
}