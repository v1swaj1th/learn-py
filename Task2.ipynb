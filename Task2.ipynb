{
  "nbformat": 4,
  "nbformat_minor": 0,
  "metadata": {
    "colab": {
      "name": "Task2.ipynb",
      "provenance": [],
      "collapsed_sections": []
    },
    "kernelspec": {
      "name": "python3",
      "display_name": "Python 3"
    },
    "language_info": {
      "name": "python"
    }
  },
  "cells": [
    {
      "cell_type": "markdown",
      "metadata": {
        "id": "3XdBV2jeBcAq"
      },
      "source": [
        " 1 ) Consider i = 2, Write a program to convert i to float"
      ]
    },
    {
      "cell_type": "code",
      "metadata": {
        "colab": {
          "base_uri": "https://localhost:8080/"
        },
        "id": "DzxoAg99BhhY",
        "outputId": "33d5e215-9c43-47d8-9be9-ff35864d81b4"
      },
      "source": [
        "i=int(input(\"Enter any number:\"))\n",
        "conv=float(i)\n",
        "print (conv)"
      ],
      "execution_count": null,
      "outputs": [
        {
          "output_type": "stream",
          "text": [
            "Enter any number:2\n",
            "2.0\n"
          ],
          "name": "stdout"
        }
      ]
    },
    {
      "cell_type": "markdown",
      "metadata": {
        "id": "YiombZ8zBt0b"
      },
      "source": [
        " 2 )Consider x=\"Hello\" and y=\"World\" , then write a program to concatinate the strings to a single string and print the result."
      ]
    },
    {
      "cell_type": "code",
      "metadata": {
        "colab": {
          "base_uri": "https://localhost:8080/"
        },
        "id": "COv5D52yB2Le",
        "outputId": "30e0e237-20aa-4f67-93cf-49ba93125155"
      },
      "source": [
        "a = input(\"Enter first word:\")\n",
        "b = input(\"Enter second word:\")\n",
        "print (a+b)"
      ],
      "execution_count": null,
      "outputs": [
        {
          "output_type": "stream",
          "text": [
            "Enter first word:Hello\n",
            "Enter second word:World\n",
            "HelloWorld\n"
          ],
          "name": "stdout"
        }
      ]
    },
    {
      "cell_type": "markdown",
      "metadata": {
        "id": "CX_KMaLKDCbW"
      },
      "source": [
        " 3 ) Consider pi = 3.14 . print the value of pi and its type."
      ]
    },
    {
      "cell_type": "code",
      "metadata": {
        "colab": {
          "base_uri": "https://localhost:8080/"
        },
        "id": "p6R3SrvBDKiI",
        "outputId": "6941696a-056f-4a41-b7de-486358ec07f5"
      },
      "source": [
        "import math\n",
        " \n",
        "print(pi,type(pi),sep=\"\\n\")"
      ],
      "execution_count": null,
      "outputs": [
        {
          "output_type": "stream",
          "text": [
            "3.14\n",
            "<class 'float'>\n"
          ],
          "name": "stdout"
        }
      ]
    }
  ]
}