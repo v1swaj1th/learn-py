
{
  "nbformat": 4,
  "nbformat_minor": 0,
  "metadata": {
    "colab": {
      "name": "Task_2.ipynb",
      "provenance": [],
      "collapsed_sections": []
    },
    "kernelspec": {
      "name": "python3",
      "display_name": "Python 3"
    },
    "language_info": {
      "name": "python"
    }
  },
  "cells": [
    {
      "cell_type": "markdown",
      "metadata": {
        "id": "3XdBV2jeBcAq"
      },
      "source": [
        " 1 ) Consider i = 2, Write a program to convert i to float"
      ]
    },
    {
      "cell_type": "code",
      "metadata": {
        "colab": {
          "base_uri": "https://localhost:8080/"
        },
        "id": "DzxoAg99BhhY",
        "outputId": "0c6ad8db-696d-4a14-e638-ecf1a67e2896"
      },
      "source": [
        "i=2\n",
        "conv=float(i)\n",
        "print (conv)"
      ],
      "execution_count": null,
      "outputs": [
        {
          "output_type": "stream",
          "text": [
            "2.0\n"
          ],
          "name": "stdout"
        }
      ]
    },
    {
      "cell_type": "markdown",
      "metadata": {
        "id": "YiombZ8zBt0b"
      },
      "source": [
        " 2 )Consider x=\"Hello\" and y=\"World\" , then write a program to concatinate the strings to a single string and print the result."
      ]
    },
    {
      "cell_type": "code",
      "metadata": {
        "colab": {
          "base_uri": "https://localhost:8080/"
        },
        "id": "COv5D52yB2Le",
        "outputId": "c5b69cc8-daca-463a-89c4-15a5733806c1"
      },
      "source": [
        "a =\"Hello\"\n",
        "b =\"World\"\n",
        "print (a+b)"
      ],
      "execution_count": null,
      "outputs": [
        {
          "output_type": "stream",
          "text": [
            "HelloWorld\n"
          ],
          "name": "stdout"
        }
      ]
    },
    {
      "cell_type": "markdown",
      "metadata": {
        "id": "CX_KMaLKDCbW"
      },
      "source": [
        " 3 ) Consider pi = 3.14 . print the value of pi and its type."
      ]
    },
    {
      "cell_type": "code",
      "metadata": {
        "colab": {
          "base_uri": "https://localhost:8080/"
        },
        "id": "p6R3SrvBDKiI",
        "outputId": "6941696a-056f-4a41-b7de-486358ec07f5"
      },
      "source": [
        "import math\n",
        " \n",
        "print(pi,type(pi),sep=\"\\n\")"
      ],
      "execution_count": null,
      "outputs": [
        {
          "output_type": "stream",
          "text": [
            "3.14\n",
            "<class 'float'>\n"
          ],
          "name": "stdout"
        }
      ]
    }
  ]
}
