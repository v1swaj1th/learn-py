{
  "nbformat": 4,
  "nbformat_minor": 0,
  "metadata": {
    "colab": {
      "name": "TASK 12.ipynb",
      "provenance": []
    },
    "kernelspec": {
      "name": "python3",
      "display_name": "Python 3"
    },
    "language_info": {
      "name": "python"
    }
  },
  "cells": [
    {
      "cell_type": "markdown",
      "metadata": {
        "id": "i9LeFsII-SAQ"
      },
      "source": [
        "1. Create an 4x4 array with elements ranging from 0-15. And find the trace of the array."
      ]
    },
    {
      "cell_type": "code",
      "metadata": {
        "id": "eT1ymGjZ-pOZ",
        "outputId": "caacea85-1e40-442b-fed8-61551cbb9848",
        "colab": {
          "base_uri": "https://localhost:8080/"
        }
      },
      "source": [
        "import numpy as np\n",
        "\n",
        "mat = np.random.randint(0,15,(4,4))\n",
        "print(\"Array\\n\",mat)\n",
        "\n",
        "print(\"Trace of the Array is: \\n\",mat.trace())\n"
      ],
      "execution_count": 2,
      "outputs": [
        {
          "output_type": "stream",
          "text": [
            "Array\n",
            " [[13  8 14  9]\n",
            " [10 11 10  4]\n",
            " [ 7  7 12 13]\n",
            " [ 4  0  4 13]]\n",
            "Trace of the Array is: \n",
            " 49\n"
          ],
          "name": "stdout"
        }
      ]
    },
    {
      "cell_type": "markdown",
      "metadata": {
        "id": "Hw69FYds-zww"
      },
      "source": [
        "2. Create a matrix with elements [6,1,1],[4,-2,5],[2,8,7].Now find the inverse this matrix."
      ]
    },
    {
      "cell_type": "code",
      "metadata": {
        "id": "IAhA-qIwAoxs",
        "outputId": "1fb5b302-f480-44ad-95d8-f460ba6f4d0c",
        "colab": {
          "base_uri": "https://localhost:8080/"
        }
      },
      "source": [
        "import numpy as np\n",
        "mat = np.array([[6,1,1],[4,-2,5],[2,8,7]])\n",
        "print(\"Matix\\n\",mat)\n",
        "print(\"\\nThe Inverse of Matrix is :\\n\",np.linalg.inv(mat))\n"
      ],
      "execution_count": 7,
      "outputs": [
        {
          "output_type": "stream",
          "text": [
            "Matix\n",
            " [[ 6  1  1]\n",
            " [ 4 -2  5]\n",
            " [ 2  8  7]]\n",
            "\n",
            "The Inverse of Matrix is :\n",
            " [[ 0.17647059 -0.00326797 -0.02287582]\n",
            " [ 0.05882353 -0.13071895  0.08496732]\n",
            " [-0.11764706  0.1503268   0.05228758]]\n"
          ],
          "name": "stdout"
        }
      ]
    },
    {
      "cell_type": "markdown",
      "metadata": {
        "id": "6B6aJDFKAz0B"
      },
      "source": [
        "3. Create an 3x3 array with elements ranging from 0-8. And find the norm this array."
      ]
    },
    {
      "cell_type": "code",
      "metadata": {
        "id": "49RVb-g3CXSk",
        "outputId": "278d0ecd-bd5c-433f-925c-13e62a4c6639",
        "colab": {
          "base_uri": "https://localhost:8080/"
        }
      },
      "source": [
        "import numpy as np\n",
        "\n",
        "mat = np.random.randint(0,8,(3,3))\n",
        "print(\"Array\\n\",mat)\n",
        "print(\"\\nThe Norm of the Matrix is\\n\",np.linalg.norm(mat))\n"
      ],
      "execution_count": 9,
      "outputs": [
        {
          "output_type": "stream",
          "text": [
            "Array\n",
            " [[4 5 4]\n",
            " [2 0 1]\n",
            " [4 5 7]]\n",
            "\n",
            "The Norm of the Matrix is\n",
            " 12.328828005937952\n"
          ],
          "name": "stdout"
        }
      ]
    },
    {
      "cell_type": "markdown",
      "metadata": {
        "id": "pGKEu4lxDCJK"
      },
      "source": [
        "4. Create a 4x4 array whose value ranging from 0-15.And find the eigenvalues and eigenvectors of this array."
      ]
    },
    {
      "cell_type": "code",
      "metadata": {
        "id": "dyymkid0DTth",
        "outputId": "65df3158-66d3-4579-8105-c058002d5964",
        "colab": {
          "base_uri": "https://localhost:8080/"
        }
      },
      "source": [
        "import numpy as np\n",
        "\n",
        "mat = np.random.randint(0,15,(4,4))\n",
        "print(\"Array\\n\",mat)\n",
        "print(\"\\nThe EigenValue and EigenVectors of the Matrix is\\n\",np.linalg.eig(mat))"
      ],
      "execution_count": 14,
      "outputs": [
        {
          "output_type": "stream",
          "text": [
            "Array\n",
            " [[14  1  3  4]\n",
            " [10  6 14  9]\n",
            " [10  5  1  2]\n",
            " [10 12 13  7]]\n",
            "\n",
            "The EigenValue and EigenVectors of the Matrix is\n",
            " (array([27.59438487,  7.18513766, -6.03009815, -0.74942438]), array([[-0.30606248, -0.4572804 ,  0.08462868, -0.13564676],\n",
            "       [-0.6061312 ,  0.50005988,  0.76433858,  0.10685687],\n",
            "       [-0.28007664, -0.09946251, -0.621734  , -0.500128  ],\n",
            "       [-0.67859252,  0.72865765, -0.14856433,  0.84855969]]))\n"
          ],
          "name": "stdout"
        }
      ]
    }
  ]
}