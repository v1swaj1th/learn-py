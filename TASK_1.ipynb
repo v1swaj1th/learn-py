{
  "nbformat": 4,
  "nbformat_minor": 0,
  "metadata": {
    "colab": {
      "name": "TASK 1",
      "provenance": []
    },
    "kernelspec": {
      "name": "python3",
      "display_name": "Python 3"
    },
    "language_info": {
      "name": "python"
    }
  },
  "cells": [
    {
      "cell_type": "markdown",
      "metadata": {
        "id": "q-yWxfWESiQo"
      },
      "source": [
        "1.Write a program that uses input to prompt a user for their name and then welcomes them."
      ]
    },
    {
      "cell_type": "code",
      "metadata": {
        "id": "9ikpRxqMSxu0",
        "colab": {
          "base_uri": "https://localhost:8080/"
        },
        "outputId": "be996b46-c7be-4fe6-c8a9-66bb84cd5d5f"
      },
      "source": [
        "a = input(\"Enter your name:\")\n",
        "print(\"Hello\",a)\n",
        "print(\"Welcome to my repo!\")"
      ],
      "execution_count": 8,
      "outputs": [
        {
          "output_type": "stream",
          "text": [
            "Enter your name:a\n",
            "Hello a\n",
            "Welcome to my repo!\n"
          ],
          "name": "stdout"
        }
      ]
    },
    {
      "cell_type": "markdown",
      "metadata": {
        "id": "Ay5OdxguS-2Z"
      },
      "source": [
        "2.Write a program which prompts the user for a Celsius temperature, convert the temperature to Fahrenheit, and print out the converted temperature."
      ]
    },
    {
      "cell_type": "code",
      "metadata": {
        "id": "MMv2yWNtTgEu",
        "colab": {
          "base_uri": "https://localhost:8080/"
        },
        "outputId": "5daa23ee-3fe7-4867-e8ff-0f97019bd98e"
      },
      "source": [
        "celsius = float(input(\"Enter temperature in Celsius:\"))\n",
        "faren = (celsius * 1.8)+32\n",
        "print(celsius,\" ℃ is\",faren,\"℉\")"
      ],
      "execution_count": 12,
      "outputs": [
        {
          "output_type": "stream",
          "text": [
            "Enter temperature in Celsius:0\n",
            "0.0  ℃ is 32.0 ℉\n"
          ],
          "name": "stdout"
        }
      ]
    },
    {
      "cell_type": "markdown",
      "metadata": {
        "id": "v6O1a198TpNd"
      },
      "source": [
        "3.Write a Python program to convert degree to radian."
      ]
    },
    {
      "cell_type": "code",
      "metadata": {
        "id": "27Jj4_D0UQBA",
        "colab": {
          "base_uri": "https://localhost:8080/"
        },
        "outputId": "c40d632d-4dcc-4450-f944-6c52f80a6626"
      },
      "source": [
        "pi=3.14\n",
        "degree = float(input(\"Enter the degree:\"))\n",
        "rad = degree*pi/180\n",
        "print(degree,\"degree is equal to\",\"%.4f\" %rad ,\"Rad.\") "
      ],
      "execution_count": 25,
      "outputs": [
        {
          "output_type": "stream",
          "text": [
            "Enter the degree:1\n",
            "1.0 degree is equal to 0.0174 Rad.\n"
          ],
          "name": "stdout"
        }
      ]
    }
  ]
}