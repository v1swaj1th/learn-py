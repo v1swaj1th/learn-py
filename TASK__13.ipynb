{
  "nbformat": 4,
  "nbformat_minor": 0,
  "metadata": {
    "colab": {
      "name": "TASK 13.ipynb",
      "provenance": []
    },
    "kernelspec": {
      "name": "python3",
      "display_name": "Python 3"
    },
    "language_info": {
      "name": "python"
    }
  },
  "cells": [
    {
      "cell_type": "markdown",
      "metadata": {
        "id": "RUSoRkrOqNwf"
      },
      "source": [
        "1. Create a 3x3 array values ranging from 0-8.Find the sum of the elements in this array."
      ]
    },
    {
      "cell_type": "code",
      "metadata": {
        "id": "t01ATYQpqq8u",
        "outputId": "a82f5813-1846-4434-f2f0-1d489d3376cc",
        "colab": {
          "base_uri": "https://localhost:8080/"
        }
      },
      "source": [
        "import numpy as np\n",
        "mat = np.random.randint(0,8,(3,3))\n",
        "print(\"\\n The Matrix is:\\n\",mat)\n",
        "\n",
        "sum = np.sum(mat)\n",
        "print(\"\\n Sum is :\\n\",sum)"
      ],
      "execution_count": 2,
      "outputs": [
        {
          "output_type": "stream",
          "text": [
            "\n",
            " The Matrix is:\n",
            " [[5 6 4]\n",
            " [1 4 6]\n",
            " [4 0 6]]\n",
            "\n",
            " Sum is :\n",
            " 36\n"
          ],
          "name": "stdout"
        }
      ]
    },
    {
      "cell_type": "markdown",
      "metadata": {
        "id": "k3Y7nQF7r3IW"
      },
      "source": [
        "2. Create a 3x3 array values ranging from 0-8.Find the row sum and column sum of this array."
      ]
    },
    {
      "cell_type": "code",
      "metadata": {
        "id": "BzvIlWfvsICv",
        "outputId": "efee01cb-e77c-4ca2-f106-8bf6857deaa5",
        "colab": {
          "base_uri": "https://localhost:8080/"
        }
      },
      "source": [
        "import numpy as np\n",
        "mat = np.random.randint(0,8,(3,3))\n",
        "print(\"\\n The Matrix is:\\n\",mat)\n",
        "\n",
        "col = np.sum(mat,axis =0)\n",
        "print(\"\\n Sum of Columns:\\n\",col)\n",
        "\n",
        "row = np.sum(mat,axis =1)\n",
        "print(\"\\n Sum of Columns:\\n\",row)\n"
      ],
      "execution_count": 4,
      "outputs": [
        {
          "output_type": "stream",
          "text": [
            "\n",
            " The Matrix is:\n",
            " [[5 3 5]\n",
            " [1 2 3]\n",
            " [3 5 2]]\n",
            "\n",
            " Sum of Columns:\n",
            " [ 9 10 10]\n",
            "\n",
            " Sum of Columns:\n",
            " [13  6 10]\n"
          ],
          "name": "stdout"
        }
      ]
    },
    {
      "cell_type": "markdown",
      "metadata": {
        "id": "KOPMsbnrsgue"
      },
      "source": [
        "3. Create a 4x4 array values ranging from 0-15. Now,\n",
        "\n",
        "    a) Find the mininmum value in the array.\n",
        "    \n",
        "    b) Find the maximum value in the array.\n",
        "\n",
        "    c) Find the mean of the values in the array."
      ]
    },
    {
      "cell_type": "code",
      "metadata": {
        "id": "1UzITxp3WDaW",
        "outputId": "b05e97d9-b0bc-4bc9-a59a-f2f183e4f469",
        "colab": {
          "base_uri": "https://localhost:8080/"
        }
      },
      "source": [
        "import numpy as np\n",
        "mat = np.random.randint(0,15,(4,4))\n",
        "print(\"\\n The Matrix is:\\n\",mat)\n",
        "\n",
        "min = np.min(mat)\n",
        "print(\"\\n Minimum Value is\\n\",min)\n",
        "\n",
        "max = np.max(mat)\n",
        "print(\"\\n Maximum Value is\\n\",max)\n",
        "\n",
        "mean = np.mean(mat)\n",
        "print(\"\\n Minimum Value is\\n\",mean)"
      ],
      "execution_count": 8,
      "outputs": [
        {
          "output_type": "stream",
          "text": [
            "\n",
            " The Matrix is:\n",
            " [[ 1  8  9  8]\n",
            " [10  2 13  3]\n",
            " [14  0 13  1]\n",
            " [ 4 14 14 10]]\n",
            "\n",
            " Minimum Value is\n",
            " 0\n",
            "\n",
            " Maximum Value is\n",
            " 14\n",
            "\n",
            " Minimum Value is\n",
            " 7.75\n"
          ],
          "name": "stdout"
        }
      ]
    },
    {
      "cell_type": "markdown",
      "metadata": {
        "id": "Pah9qGButoz2"
      },
      "source": [
        "4. Create an 10x10 array values ranging from 0-99.And ,\n",
        "\n",
        "    a) Print the 7th row.\n",
        "    \n",
        "    b) Print the rows from 4-8.\n",
        "\n",
        "    c) Print the value at the index 5,5.\n",
        "\n",
        "    d) Print the 5th colomn.\n",
        "\n",
        "    e) Print the columns from 2-5."
      ]
    },
    {
      "cell_type": "code",
      "metadata": {
        "id": "JFXPq0GkvhKi",
        "outputId": "dc6be661-fc10-4c58-ac4a-35133fb24626",
        "colab": {
          "base_uri": "https://localhost:8080/"
        }
      },
      "source": [
        "import numpy as np\n",
        "mat = np.random.randint(0,99,(10,10))\n",
        "print(\"\\n The Matrix is:\\n\",mat)\n",
        "\n",
        "print(\"\\nThe 7th row is :\\n\",mat[7,:])\n",
        "\n",
        "print(\"\\nThe 4-8th row is :\\n\",mat[4:8,:])\n",
        "\n",
        "print(\"\\nThe value at (5,5) is :\\n\",mat[5,5])\n",
        "\n",
        "print(\"\\nThe 5th column) is :\\n\",mat[:,5])\n",
        "\n",
        "print(\"\\nThe 2-5th column) is :\\n\",mat[:,2:5])\n",
        "\n"
      ],
      "execution_count": 21,
      "outputs": [
        {
          "output_type": "stream",
          "text": [
            "\n",
            " The Matrix is:\n",
            " [[29 16 85  7 51 83 29 41 12 91]\n",
            " [17 77 27 10 14 53 69  6  1 46]\n",
            " [85 10 58 82 10 97 69 52 69 36]\n",
            " [ 2 63 56 68 71 48 17 17 32 19]\n",
            " [ 5 27  2  1 19 18 92 44 72 81]\n",
            " [42 33 60 61  9 33 92 65 93 65]\n",
            " [34 45 88 51  8 58  0 94 73 87]\n",
            " [ 0  5 63 10 63 30 20 54 40 97]\n",
            " [96 44 13 40 37 21 73  9 23  2]\n",
            " [ 5 11 12 62 23 90 39 72  5 25]]\n",
            "\n",
            "The 7th row is :\n",
            " [ 0  5 63 10 63 30 20 54 40 97]\n",
            "\n",
            "The 4-8th row is :\n",
            " [[ 5 27  2  1 19 18 92 44 72 81]\n",
            " [42 33 60 61  9 33 92 65 93 65]\n",
            " [34 45 88 51  8 58  0 94 73 87]\n",
            " [ 0  5 63 10 63 30 20 54 40 97]]\n",
            "\n",
            "The value at (5,5) is :\n",
            " 33\n",
            "\n",
            "The 5th column) is :\n",
            " [83 53 97 48 18 33 58 30 21 90]\n",
            "\n",
            "The 2-5th column) is :\n",
            " [[85  7 51]\n",
            " [27 10 14]\n",
            " [58 82 10]\n",
            " [56 68 71]\n",
            " [ 2  1 19]\n",
            " [60 61  9]\n",
            " [88 51  8]\n",
            " [63 10 63]\n",
            " [13 40 37]\n",
            " [12 62 23]]\n"
          ],
          "name": "stdout"
        }
      ]
    }
  ]
}