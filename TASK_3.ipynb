{
  "nbformat": 4,
  "nbformat_minor": 0,
  "metadata": {
    "colab": {
      "name": "TASK_3.ipynb",
      "provenance": []
    },
    "kernelspec": {
      "name": "python3",
      "display_name": "Python 3"
    },
    "language_info": {
      "name": "python"
    }
  },
  "cells": [
    {
      "cell_type": "markdown",
      "metadata": {
        "id": "z20IIB0eUQMN"
      },
      "source": [
        "1 - Write a program which takes a number as input from the user and check whether the number is odd or even.If odd print the number is odd if not print it is even."
      ]
    },
    {
      "cell_type": "code",
      "metadata": {
        "id": "dVgGJ-wTVRit",
        "colab": {
          "base_uri": "https://localhost:8080/"
        },
        "outputId": "38eadd03-5305-428b-adf9-42a9f19d3605"
      },
      "source": [
        "num = int(input(\"Enter a number:\"))\n",
        "if num%2==0:\n",
        "  print(\"The number is even.\")\n",
        "else:\n",
        "  print(\"This number is odd.\")\n",
        "\n"
      ],
      "execution_count": null,
      "outputs": [
        {
          "output_type": "stream",
          "text": [
            "Enter a number:6\n",
            "The number is even.\n"
          ],
          "name": "stdout"
        }
      ]
    },
    {
      "cell_type": "markdown",
      "metadata": {
        "id": "7778XD8PVblj"
      },
      "source": [
        "2 -Write a program to find the largest among three numbers and print the largest number.\n",
        "\n",
        "> Indented block\n",
        "\n"
      ]
    },
    {
      "cell_type": "code",
      "metadata": {
        "id": "m0tUOkOFWR-d",
        "colab": {
          "base_uri": "https://localhost:8080/"
        },
        "outputId": "254fd2a1-ebd9-4362-96cb-4a3a9762b738"
      },
      "source": [
        "a = int(input(\"Enter first number:\"))\n",
        "b = int(input(\"Enter second number:\"))\n",
        "c = int(input(\"Enter third number:\"))\n",
        "\n",
        "if(a>b):\n",
        "  if(a>c):\n",
        "    print(a, \"is the largest.\")\n",
        "  else:\n",
        "    print(c, \"is the largest.\")\n",
        "else:\n",
        "  if(b>c):\n",
        "    print(b, \"is the largest.\")\n",
        "  else:\n",
        "    print(c, \"is the largest.\")"
      ],
      "execution_count": null,
      "outputs": [
        {
          "output_type": "stream",
          "text": [
            "Enter first number:3\n",
            "Enter second number:2\n",
            "Enter third number:1\n",
            "3 is the largest.\n"
          ],
          "name": "stdout"
        }
      ]
    },
    {
      "cell_type": "markdown",
      "metadata": {
        "id": "Jg2Ns4OQWaJy"
      },
      "source": [
        "3 -Write a function to prompt for a score between 0.0 and 1.0.\n",
        "\n",
        "    If the score is out of range, print an error.\n",
        "    If the score is between 0.0 and 1.0, print a grade using the following table:\n",
        "    Score Grade\n",
        "             Score\tGrade\n",
        "            >= 0.9\tA\n",
        "            >= 0.8\tB\n",
        "            >= 0.7\tC\n",
        "            >= 0.6\tD\n",
        "             < 0.6\tF\n",
        "If the user enters a value out of range, print a suitable error message and exit. For the test, enter a score of 0.85."
      ]
    },
    {
      "cell_type": "markdown",
      "metadata": {
        "id": "-o0scDq7WkVT"
      },
      "source": [
        ""
      ]
    },
    {
      "cell_type": "code",
      "metadata": {
        "id": "L7IG6J_eTwQ8",
        "colab": {
          "base_uri": "https://localhost:8080/"
        },
        "outputId": "1fa8141e-9bc2-4ee3-be66-3eb004cb5e01"
      },
      "source": [
        "def grade(n):\n",
        "    if(n>0.0 and n<1.0):\n",
        "        if(n>=0.9):\n",
        "            print(\"Grade A\")\n",
        "        elif(n>=0.8):\n",
        "            print(\"Grade B\")\n",
        "        elif(n>=0.7):\n",
        "            print(\"Grade C\")\n",
        "        elif(n>=0.6):\n",
        "            print(\"Grade D\")\n",
        "        elif(n<0.6):\n",
        "            print(\"Grade F\")\n",
        "    else:\n",
        "        print(\"Invalid input\")\n",
        "        print(\"Try again.\")\n",
        "\n",
        "n = float(input(\"Enter the number : \"))\n",
        "grade(n)\n"
      ],
      "execution_count": null,
      "outputs": [
        {
          "output_type": "stream",
          "text": [
            "Enter the number : .98\n",
            "Grade A\n"
          ],
          "name": "stdout"
        }
      ]
    }
  ]
}