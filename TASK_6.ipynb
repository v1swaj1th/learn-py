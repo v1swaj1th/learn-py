{
  "nbformat": 4,
  "nbformat_minor": 0,
  "metadata": {
    "colab": {
      "name": "TASK 6.ipynb",
      "provenance": []
    },
    "kernelspec": {
      "name": "python3",
      "display_name": "Python 3"
    },
    "language_info": {
      "name": "python"
    }
  },
  "cells": [
    {
      "cell_type": "markdown",
      "metadata": {
        "id": "2aT_QhgIny6V"
      },
      "source": [
        "1. Write a Python program to find those numbers which are divisible by 7 and multiple of 11, between 1000 and 2000 (both included)."
      ]
    },
    {
      "cell_type": "code",
      "metadata": {
        "id": "KlFG2BFZoEEU",
        "colab": {
          "base_uri": "https://localhost:8080/"
        },
        "outputId": "c8f68a73-4cc4-467d-ad06-233fce2ba938"
      },
      "source": [
        "for i in range(1000,2000):\n",
        "  if(i%7==0 and i%11==0):\n",
        "    print(i)\n"
      ],
      "execution_count": 1,
      "outputs": [
        {
          "output_type": "stream",
          "text": [
            "1001\n",
            "1078\n",
            "1155\n",
            "1232\n",
            "1309\n",
            "1386\n",
            "1463\n",
            "1540\n",
            "1617\n",
            "1694\n",
            "1771\n",
            "1848\n",
            "1925\n"
          ],
          "name": "stdout"
        }
      ]
    },
    {
      "cell_type": "markdown",
      "metadata": {
        "id": "ZesHXUMboLu7"
      },
      "source": [
        "2. Write a program to print this pattern\n",
        "\n",
        "           #\n",
        "          ## \n",
        "         ###"
      ]
    },
    {
      "cell_type": "code",
      "metadata": {
        "id": "64-aUjWbohqz",
        "colab": {
          "base_uri": "https://localhost:8080/"
        },
        "outputId": "a64676cf-cb5c-4a44-d986-ed78d0ff3737"
      },
      "source": [
        "n=int(input(\"Enter the number of rows:\"))\n",
        "k = 2*n - 2\n",
        "\n",
        "for i in range(0, n):\n",
        "\t\n",
        "\tfor j in range(0, k):\n",
        "\t\tprint(end=\" \")\n",
        "\t\n",
        "\tk = k - 2\n",
        "\t\n",
        "\tfor j in range(0, i+1):\n",
        "\t\t\n",
        "\t\tprint(\"# \", end=\"\")\n",
        "\t\n",
        "\tprint(\"\\r\")\n",
        "\n",
        "\n"
      ],
      "execution_count": 14,
      "outputs": [
        {
          "output_type": "stream",
          "text": [
            "Enter the number of rows:3\n",
            "    * \n",
            "  * * \n",
            "* * * \n"
          ],
          "name": "stdout"
        }
      ]
    },
    {
      "cell_type": "markdown",
      "metadata": {
        "id": "6ZepaaI-ow6W"
      },
      "source": [
        "3. list=[apple, orange, apple, banana]\n",
        ". Replace all the apple in the list with grapes using for loop"
      ]
    },
    {
      "cell_type": "code",
      "metadata": {
        "id": "D7UOyf_6o6Ax",
        "colab": {
          "base_uri": "https://localhost:8080/"
        },
        "outputId": "c7853db9-df70-461b-a9cc-df06f094aa57"
      },
      "source": [
        "print(\"Original List\")\n",
        "list=['apple','orange','apple','banana']\n",
        "print(list)\n",
        "for x in range (0,4):\n",
        "    if (list[x]=='apple'):\n",
        "        list[x]='grapes'\n",
        "print(\"Replaced List\")\n",
        "print(list)\n"
      ],
      "execution_count": 20,
      "outputs": [
        {
          "output_type": "stream",
          "text": [
            "['apple', 'orange', 'apple', 'banana']\n",
            "Replaced List\n",
            "['grapes', 'orange', 'grapes', 'banana']\n"
          ],
          "name": "stdout"
        }
      ]
    }
  ]
}