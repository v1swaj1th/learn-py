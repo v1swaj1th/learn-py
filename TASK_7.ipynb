{
  "nbformat": 4,
  "nbformat_minor": 0,
  "metadata": {
    "colab": {
      "name": "TASK  7.ipynb",
      "provenance": [],
      "collapsed_sections": []
    },
    "kernelspec": {
      "name": "python3",
      "display_name": "Python 3"
    },
    "language_info": {
      "name": "python"
    }
  },
  "cells": [
    {
      "cell_type": "markdown",
      "metadata": {
        "id": "b0V3vwzcydKy"
      },
      "source": [
        "1. Write a program to check whether a  string is palindrome or not using functions. \n",
        "\n",
        "   ( A function is to be created to check whether the string is palindrome and it should give the output true or false to the main program)"
      ]
    },
    {
      "cell_type": "code",
      "metadata": {
        "id": "M2Mi7EOdyxiu",
        "colab": {
          "base_uri": "https://localhost:8080/"
        },
        "outputId": "279482fb-1589-437b-83de-1c4778a817ca"
      },
      "source": [
        "\n",
        " \n",
        "def isPalindrome(a):\n",
        "    a=a.lower()\n",
        "    return a == a[::-1]\n",
        " \n",
        " \n",
        "\n",
        "a = input(\"Enter a string: \")\n",
        "ans = isPalindrome(a)\n",
        " \n",
        "if ans:\n",
        "    print(\"Yes,its a Palindrome\")\n",
        "else:\n",
        "    print(\"Not a Palindrome\")\n"
      ],
      "execution_count": 5,
      "outputs": [
        {
          "output_type": "stream",
          "text": [
            "Enter a string: Nibin\n",
            "Yes,its a Palindrome\n"
          ],
          "name": "stdout"
        }
      ]
    },
    {
      "cell_type": "markdown",
      "metadata": {
        "id": "vSiShTyOzEz-"
      },
      "source": [
        "2.  Write a menu driven program to find largest element in L, smallest element, avg of all values, sum of all values in L. All these operation should be performed in different functions and the result should be returned.\n",
        "\n",
        "\n",
        "      L=[23,24,11,90,1,41,9,99,28,56,72]"
      ]
    },
    {
      "cell_type": "code",
      "metadata": {
        "id": "fRtMIw_CzsmO",
        "colab": {
          "base_uri": "https://localhost:8080/"
        },
        "outputId": "4ed61774-4dc8-4d2a-d07c-566b894c6c30"
      },
      "source": [
        "  from statistics import mean\n",
        "  \n",
        "  import sys\n",
        " \n",
        "\n",
        " \n",
        "  sys.setrecursionlimit(10**6)\n",
        " \n",
        "  \n",
        "  def MaxL(L):\n",
        "    print(\"Largest Element of the list is\",max(L))\n",
        "\n",
        "  def MinL(L):\n",
        "      print(\"Smallest Element of the list is\",min(L))\n",
        "\n",
        "  def MeanL(L):\n",
        "      print(\"Average Value of Element in the list is\",round(mean(L),2))\n",
        "\n",
        "  def SumL(L):\n",
        "      print(\"Sum of Element of the list is\",sum(L))\n",
        "\n",
        "\n",
        "  L=[23,24,11,90,1,41,9,99,28,56,72]\n",
        "  MaxL(L)\n",
        "  MinL(L)\n",
        "  MeanL(L)\n",
        "  SumL(L)\n",
        "\n",
        "\n",
        "\n",
        "\n",
        "\n"
      ],
      "execution_count": 2,
      "outputs": [
        {
          "output_type": "stream",
          "text": [
            "Largest Element of the list is 99\n",
            "Smallest Element of the list is 1\n",
            "Average Value of Element in the list is 41.27\n",
            "Sum of Element of the list is 454\n"
          ],
          "name": "stdout"
        }
      ]
    }
  ]
}