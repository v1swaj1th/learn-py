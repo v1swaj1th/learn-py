{
  "nbformat": 4,
  "nbformat_minor": 0,
  "metadata": {
    "colab": {
      "name": "TASK _7.ipynb",
      "provenance": [],
      "collapsed_sections": []
    },
    "kernelspec": {
      "name": "python3",
      "display_name": "Python 3"
    },
    "language_info": {
      "name": "python"
    }
  },
  "cells": [
    {
      "cell_type": "markdown",
      "metadata": {
        "id": "b0V3vwzcydKy"
      },
      "source": [
        "1. Write a program to check whether a  string is palindrome or not using functions. \n",
        "\n",
        "   ( A function is to be created to check whether the string is palindrome and it should give the output true or false to the main program)"
      ]
    },
    {
      "cell_type": "code",
      "metadata": {
        "id": "M2Mi7EOdyxiu",
        "colab": {
          "base_uri": "https://localhost:8080/"
        },
        "outputId": "863bd991-5f5b-4367-be01-442c19b84ff4"
      },
      "source": [
        "\n",
        " \n",
        "def isPalindrome(a):\n",
        "    return s == a[::-1]\n",
        " \n",
        " \n",
        "\n",
        "a = input(\"Enter a string: \")\n",
        "ans = isPalindrome(a)\n",
        " \n",
        "if ans:\n",
        "    print(\"Yes,its a Palindrome\")\n",
        "else:\n",
        "    print(\"Not a Palindrome\")\n"
      ],
      "execution_count": null,
      "outputs": [
        {
          "output_type": "stream",
          "text": [
            "Enter a string: if\n",
            "Not a Palindrome\n"
          ],
          "name": "stdout"
        }
      ]
    },
    {
      "cell_type": "markdown",
      "metadata": {
        "id": "vSiShTyOzEz-"
      },
      "source": [
        "2.  Write a menu driven program to find largest element in L, smallest element, avg of all values, sum of all values in L. All these operation should be performed in different functions and the result should be returned.\n",
        "\n",
        "\n",
        "      L=[23,24,11,90,1,41,9,99,28,56,72]"
      ]
    },
    {
      "cell_type": "code",
      "metadata": {
        "id": "fRtMIw_CzsmO",
        "colab": {
          "base_uri": "https://localhost:8080/"
        },
        "outputId": "4c302f28-72bb-4697-90fe-5e640aeb0812"
      },
      "source": [
        "  from statistics import mean\n",
        "\n",
        "  L=[23,24,11,90,1,41,9,99,28,56,72]\n",
        "  \n",
        "  print(\"Largest Element of the list is\",max(L))\n",
        "  print(\"Smallest Element of the list is\",min(L))\n",
        "  print(\"Average Value of Element in the list is\",round(mean(L),2))\n",
        "  print(\"Sum of Element of the list is\",sum(L))\n"
      ],
      "execution_count": 8,
      "outputs": [
        {
          "output_type": "stream",
          "text": [
            "Largest Element of the list is 99\n",
            "Smallest Element of the list is 1\n",
            "Average Value of Element in the list is 41.27\n",
            "Sum of Element of the list is 454\n"
          ],
          "name": "stdout"
        }
      ]
    }
  ]
}