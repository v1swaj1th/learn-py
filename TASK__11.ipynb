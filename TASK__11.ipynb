{
  "nbformat": 4,
  "nbformat_minor": 0,
  "metadata": {
    "colab": {
      "name": "TASK 11.ipynb",
      "provenance": []
    },
    "kernelspec": {
      "name": "python3",
      "display_name": "Python 3"
    },
    "language_info": {
      "name": "python"
    }
  },
  "cells": [
    {
      "cell_type": "markdown",
      "metadata": {
        "id": "Ud2gZIbu6E59"
      },
      "source": [
        "N.B: Please find the answers by applying the functions on the matrices"
      ]
    },
    {
      "cell_type": "markdown",
      "metadata": {
        "id": "_9JX1Vdn4sTN"
      },
      "source": [
        "1. Create 2 3×3 matrix with 0-8 and 10-19 as elements in each and perform the vectorize multiplication operations on the matrices.(Outer product, Dot product, Element wise product)."
      ]
    },
    {
      "cell_type": "code",
      "metadata": {
        "id": "aBzAn6Z75VQ6",
        "outputId": "36cbd1a7-87e3-4188-c481-2cd18195e71e",
        "colab": {
          "base_uri": "https://localhost:8080/"
        }
      },
      "source": [
        "import numpy as np\n",
        "\n",
        "mat1 = np.random.randint(0,8,(3,3))\n",
        "mat2 = np.random.randint(10,19,(3,3))\n",
        "\n",
        "print(\"Matrix A\\n\" ,mat1)\n",
        "\n",
        "print(\"\\nMatrix B\\n\" ,mat2)\n",
        "\n",
        "out = np.multiply.outer(mat1,mat2)\n",
        "print(\"Outer Products\\n\",out)\n",
        "\n",
        "dot = np.dot(mat1,mat2)\n",
        "print(\"Dot Products\\n\",dot)\n",
        "\n",
        "Ele = np.multiply(mat1,mat2)\n",
        "print(\"Element Wise\\n\",Ele)\n"
      ],
      "execution_count": 7,
      "outputs": [
        {
          "output_type": "stream",
          "text": [
            "Matrix A\n",
            " [[2 4 4]\n",
            " [0 3 1]\n",
            " [0 5 3]]\n",
            "\n",
            "Matrix B\n",
            " [[10 12 18]\n",
            " [17 15 16]\n",
            " [17 12 14]]\n",
            "Outer Products\n",
            " [[[[20 24 36]\n",
            "   [34 30 32]\n",
            "   [34 24 28]]\n",
            "\n",
            "  [[40 48 72]\n",
            "   [68 60 64]\n",
            "   [68 48 56]]\n",
            "\n",
            "  [[40 48 72]\n",
            "   [68 60 64]\n",
            "   [68 48 56]]]\n",
            "\n",
            "\n",
            " [[[ 0  0  0]\n",
            "   [ 0  0  0]\n",
            "   [ 0  0  0]]\n",
            "\n",
            "  [[30 36 54]\n",
            "   [51 45 48]\n",
            "   [51 36 42]]\n",
            "\n",
            "  [[10 12 18]\n",
            "   [17 15 16]\n",
            "   [17 12 14]]]\n",
            "\n",
            "\n",
            " [[[ 0  0  0]\n",
            "   [ 0  0  0]\n",
            "   [ 0  0  0]]\n",
            "\n",
            "  [[50 60 90]\n",
            "   [85 75 80]\n",
            "   [85 60 70]]\n",
            "\n",
            "  [[30 36 54]\n",
            "   [51 45 48]\n",
            "   [51 36 42]]]]\n",
            "Dot Products\n",
            " [[156 132 156]\n",
            " [ 68  57  62]\n",
            " [136 111 122]]\n",
            "Element Wise\n",
            " [[20 48 72]\n",
            " [ 0 45 16]\n",
            " [ 0 60 42]]\n"
          ],
          "name": "stdout"
        }
      ]
    },
    {
      "cell_type": "markdown",
      "metadata": {
        "id": "gJGtIjx25k92"
      },
      "source": [
        "2. Create a 4×4 matrix with 0-16  as elements in it. Add a scalar 4 to the matrix and also multiply it with [1,2,3,4] 1-D matrix by broadcasting. ( Please note to do both the addition and multiplication by broadcasting.)"
      ]
    },
    {
      "cell_type": "code",
      "metadata": {
        "id": "H7cznh8M56r-",
        "outputId": "7900a3b6-cce8-41ba-ee49-429460a8fa93",
        "colab": {
          "base_uri": "https://localhost:8080/"
        }
      },
      "source": [
        "import numpy as np\n",
        "\n",
        "mat = np.random.randint(0,16,(4,4))\n",
        "print(\"Matrix is \\n\", mat)\n",
        "\n",
        "#adding 4(scalar) to the matrix\n",
        "scal = 2\n",
        "addScal = mat + scal\n",
        "print(\"\\n Scalar Matrix\\n\",addScal)\n",
        "\n",
        "#matrix broadcasting\n",
        "nums = np.array([1,2,3,4])\n",
        "mult = mat * nums\n",
        "print(\"\\nThe Multiplication by broadcasting\\n\",mult)\n",
        "\n"
      ],
      "execution_count": 14,
      "outputs": [
        {
          "output_type": "stream",
          "text": [
            "Matrix is \n",
            " [[13 13 14  1]\n",
            " [15 10 11 11]\n",
            " [15  7 15  7]\n",
            " [ 6 11  9  8]]\n",
            "\n",
            " Scalar Matrix\n",
            " [[15 15 16  3]\n",
            " [17 12 13 13]\n",
            " [17  9 17  9]\n",
            " [ 8 13 11 10]]\n",
            "\n",
            "The Multiplication by broadcasting\n",
            " [[13 26 42  4]\n",
            " [15 20 33 44]\n",
            " [15 14 45 28]\n",
            " [ 6 22 27 32]]\n"
          ],
          "name": "stdout"
        }
      ]
    }
  ]
}